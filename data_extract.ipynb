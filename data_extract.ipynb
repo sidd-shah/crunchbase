{
 "cells": [
  {
   "cell_type": "code",
   "execution_count": 1,
   "metadata": {
    "collapsed": true
   },
   "outputs": [],
   "source": [
    "import pycrunchbase"
   ]
  },
  {
   "cell_type": "code",
   "execution_count": 2,
   "metadata": {
    "collapsed": false
   },
   "outputs": [],
   "source": [
    "from operator import itemgetter\n",
    "import re"
   ]
  },
  {
   "cell_type": "code",
   "execution_count": 3,
   "metadata": {
    "collapsed": true
   },
   "outputs": [],
   "source": [
    "# CONSTANTS\n",
    "API_KEY = 'd8c293682411de52d3c5280410fd2419'"
   ]
  },
  {
   "cell_type": "code",
   "execution_count": 4,
   "metadata": {
    "collapsed": false
   },
   "outputs": [],
   "source": [
    "cb = pycrunchbase.CrunchBase(API_KEY)"
   ]
  },
  {
   "cell_type": "code",
   "execution_count": 5,
   "metadata": {
    "collapsed": false
   },
   "outputs": [
    {
     "name": "stdout",
     "output_type": "stream",
     "text": [
      "funding_rounds.csv  ipos.csv            people.csv\r\n",
      "funds.csv           organizations.csv   products.csv\r\n"
     ]
    }
   ],
   "source": [
    "% ls ids_data/"
   ]
  },
  {
   "cell_type": "markdown",
   "metadata": {
    "collapsed": false
   },
   "source": [
    "## Funding Rounds"
   ]
  },
  {
   "cell_type": "code",
   "execution_count": 7,
   "metadata": {
    "collapsed": false
   },
   "outputs": [],
   "source": [
    "PROPERTIES = [\n",
    "    u'funding_type',\n",
    "    u'money_raised_usd',\n",
    "    u'series',\n",
    "    u'announced_on',\n",
    "    u'announced_on_trust_code',\n",
    "    u'closed_on',\n",
    "    u'closed_on_trust_code',\n",
    "]\n",
    "\n",
    "RELATIONSHIPS_FUNDED_ORGANIZATION = [\n",
    "    u'uuid',\n",
    "]"
   ]
  },
  {
   "cell_type": "code",
   "execution_count": 8,
   "metadata": {
    "collapsed": false
   },
   "outputs": [],
   "source": [
    "output_file = file('data/funding_rounds.csv','w')\n",
    "output_file.write('uuid,')\n",
    "[output_file.write(prop+\",\") for prop in PROPERTIES]\n",
    "output_file.write('org_uuid')"
   ]
  },
  {
   "cell_type": "code",
   "execution_count": 9,
   "metadata": {
    "collapsed": true
   },
   "outputs": [],
   "source": [
    "def get_fund_round_string(funding_round):\n",
    "    properties_dict = funding_round.data['properties']\n",
    "    organization_dict = funding_round.data['relationships']['funded_organization']['item']\n",
    "    properties_values = itemgetter(*PROPERTIES)(properties_dict)\n",
    "    organization_values = itemgetter(*RELATIONSHIPS_FUNDED_ORGANIZATION)(organization_dict)\n",
    "    return \"\\n\"+str(funding_round.data['uuid'])+\",\" + \",\".join([str(x) for x in properties_values])+\",\"+ organization_values\n"
   ]
  },
  {
   "cell_type": "code",
   "execution_count": 10,
   "metadata": {
    "collapsed": false
   },
   "outputs": [
    {
     "data": {
      "text/plain": [
       "'uuid,updated_at\\n'"
      ]
     },
     "execution_count": 10,
     "metadata": {},
     "output_type": "execute_result"
    }
   ],
   "source": [
    "input_file = open('ids_data/funding_rounds.csv')\n",
    "input_file.readline()"
   ]
  },
  {
   "cell_type": "code",
   "execution_count": null,
   "metadata": {
    "collapsed": false
   },
   "outputs": [
    {
     "name": "stdout",
     "output_type": "stream",
     "text": [
      "Failed to get the Funding Round for  0115002a-760a-8974-7ba0-ab2665b95461\n"
     ]
    }
   ],
   "source": [
    "for line in input_file:\n",
    "    uuid = line.split(\",\")[0]\n",
    "    try:\n",
    "        funding_round = cb.funding_round(str(uuid))\n",
    "        output_file.write(get_fund_round_string(funding_round))\n",
    "    except:\n",
    "        print \"Failed to get the Funding Round for \", uuid"
   ]
  },
  {
   "cell_type": "code",
   "execution_count": null,
   "metadata": {
    "collapsed": false
   },
   "outputs": [],
   "source": [
    "output_file.close()\n",
    "input_file.close()"
   ]
  },
  {
   "cell_type": "markdown",
   "metadata": {},
   "source": [
    "## Organizations"
   ]
  },
  {
   "cell_type": "markdown",
   "metadata": {},
   "source": [
    "### Create Files"
   ]
  },
  {
   "cell_type": "markdown",
   "metadata": {},
   "source": [
    "#### Addresses"
   ]
  },
  {
   "cell_type": "code",
   "execution_count": null,
   "metadata": {
    "collapsed": true
   },
   "outputs": [],
   "source": [
    "address_file = open('data/address.csv','w')\n",
    "address_file.write('org_uuid,city,region,country,latitude,longitude,type\\n')\n",
    "address_file.close()"
   ]
  },
  {
   "cell_type": "code",
   "execution_count": 522,
   "metadata": {
    "collapsed": true
   },
   "outputs": [],
   "source": [
    "def store_offices(org):\n",
    "    [store_address(org.uuid, address) for address in org.offices.items]\n",
    "    \n",
    "def store_headquarters(org):\n",
    "    if org.data['relationships']['headquarters']['paging']['total_items']>0:\n",
    "        store_address(org.uuid,org.headquarters, True)\n",
    "    \n",
    "def store_address(uuid,address, headquarters= False):\n",
    "    address_file = open('data/address.csv','a')\n",
    "    address_file.write(org.uuid+\",\"+address.city+ \", \"+ address.region+\",\"+address.country+\",\"+str(address.latitude)+\",\"+str(address.longitude)+\",\"+str(headquarters)+\"\\n\")\n",
    "    address_file.close()"
   ]
  },
  {
   "cell_type": "markdown",
   "metadata": {},
   "source": [
    "#### Competitors"
   ]
  },
  {
   "cell_type": "code",
   "execution_count": null,
   "metadata": {
    "collapsed": true
   },
   "outputs": [],
   "source": [
    "competitors_file =  open('data/competitors.csv','w')\n",
    "competitors_file.write('org_uuid,competitor_uuid')\n",
    "competitors_file.close()"
   ]
  },
  {
   "cell_type": "code",
   "execution_count": 525,
   "metadata": {
    "collapsed": false
   },
   "outputs": [],
   "source": [
    "def store_competitors_details(org):\n",
    "    competitors_file = open('data/competitors.csv','a')\n",
    "    competitors = cb.more(org.competitors)\n",
    "    [competitors_file.write(org.uuid+\",\"+competitor.uuid+\"\\n\") for competitor in competitors]\n",
    "    competitors_file.close()"
   ]
  },
  {
   "cell_type": "markdown",
   "metadata": {},
   "source": [
    "#### Acquisitions"
   ]
  },
  {
   "cell_type": "code",
   "execution_count": 487,
   "metadata": {
    "collapsed": true
   },
   "outputs": [],
   "source": [
    "acquisitions_file = open('data/acquisitions.csv','w')\n",
    "acquisitions_file.write(\n",
    "'acquirer_uuid,\\\n",
    "acquiree_uuid,\\\n",
    "price,\\\n",
    "price_currency_code,\\\n",
    "price_usd,\\\n",
    "payment_type,\\\n",
    "acquisition_type,\\\n",
    "acquisition_status,\\\n",
    "disposition_of_acquired,\\\n",
    "announced_on,\\\n",
    "announced_on_trust_code,\\\n",
    "completed_on\\n'\n",
    ")\n",
    "acquisitions_file.close()"
   ]
  },
  {
   "cell_type": "code",
   "execution_count": 500,
   "metadata": {
    "collapsed": true
   },
   "outputs": [],
   "source": [
    "def store_acquisition(org):\n",
    "    acquisitions = org.acquisitions\n",
    "    acquisitions_file = open('data/acquisitions.csv','a')\n",
    "    [acquisitions_file.write(\n",
    "        str(acq.uuid)+\",\"+\\\n",
    "        str(acq.acquiree.get(0).uuid)+\",\"+\\\n",
    "        str(acq.price)+\",\"+\\\n",
    "        str(acq.price_currency_code)+\",\"+\\\n",
    "        str(acq.price_usd)+\",\"+\\\n",
    "        str(acq.payment_type)+\",\"+\\\n",
    "        str(acq.acquisition_type)+\",\"+\\\n",
    "        str(acq.acquisition_status)+\",\"+\\\n",
    "        str(acq.disposition_of_acquired)+\",\"+\\\n",
    "        str(acq.announced_on)+\",\"+\\\n",
    "        str(acq.announced_on_trust_code)+\",\"+\\\n",
    "        str(acq.completed_on)+\"\\n\"\n",
    "    ) for acq in acquisitions]"
   ]
  },
  {
   "cell_type": "markdown",
   "metadata": {},
   "source": [
    "#### Organization Properties"
   ]
  },
  {
   "cell_type": "code",
   "execution_count": 471,
   "metadata": {
    "collapsed": true
   },
   "outputs": [],
   "source": [
    "organizations_file = open('data/organizations.csv','w')\n",
    "organizations_file.write(\n",
    "'org_uuid,\\\n",
    "closed_on,\\\n",
    "closed_on_trust_code,\\\n",
    "founded_on,\\\n",
    "founded_on_trust_code,\\\n",
    "is_closed,\\\n",
    "name,\\\n",
    "num_employees_max,\\\n",
    "num_employees_min,\\\n",
    "number_of_investments,\\\n",
    "stock_exchange,\\\n",
    "stock_symbol,\\\n",
    "total_funding_usd,\\\n",
    "created_at,\\\n",
    "updated_at,\\\n",
    "role_company,\\\n",
    "role_group,\\\n",
    "role_investor,\\\n",
    "role_school\\n'\n",
    ")\n",
    "organizations_file.close()"
   ]
  },
  {
   "cell_type": "code",
   "execution_count": 470,
   "metadata": {
    "collapsed": true
   },
   "outputs": [],
   "source": [
    "def store_organization_properties(org):\n",
    "    organizations_file = open('data/organizations.csv','a')\n",
    "    organizations_file.write(\n",
    "        org.uuid+\",\"\\\n",
    "        +str(org.closed_on)+\",\"\\\n",
    "        +str(org.closed_on_trust_code)+\",\"\\\n",
    "        +str(org.founded_on)+\",\"\\\n",
    "        +str(org.founded_on_trust_code)+\",\"\\\n",
    "        +str(org.is_closed)+\",\"\\\n",
    "        +str(org.name)+\",\"\\\n",
    "        +str(org.num_employees_max)+\",\"\\\n",
    "        +str(org.num_employees_min)+\",\"\\\n",
    "        +str(org.number_of_investments)+\",\"\\\n",
    "        +str(org.stock_exchange)+\",\"\\\n",
    "        +str(org.stock_symbol)+\",\"\\\n",
    "        +str(org.total_funding_usd)+\",\"\\\n",
    "        +str(org.created_at)+\",\"\\\n",
    "        +str(org.updated_at)+\",\"\\\n",
    "        +str(org.role_company)+\",\"\\\n",
    "        +str(org.role_group)+\",\"\\\n",
    "        +str(org.role_investor)+\",\"\\\n",
    "        +str(org.role_school)+\"\\n\"\n",
    "    )\n",
    "    organizations_file.close()"
   ]
  },
  {
   "cell_type": "markdown",
   "metadata": {},
   "source": [
    "#### Founders"
   ]
  },
  {
   "cell_type": "code",
   "execution_count": 599,
   "metadata": {
    "collapsed": true
   },
   "outputs": [],
   "source": [
    "founders_file = open('data/founders.csv','w')\n",
    "founders_file.write('org_uuid, founder_uuid\\n')\n",
    "founders_file.close()"
   ]
  },
  {
   "cell_type": "code",
   "execution_count": 598,
   "metadata": {
    "collapsed": false
   },
   "outputs": [],
   "source": [
    "def store_founders(org):\n",
    "    founders_file = open('data/founders.csv','a')\n",
    "    for founder in org.founders:\n",
    "        founders_file.write(org.uuid+\",\"+founder.uuid+\"\\n\")\n",
    "    founders_file.close()"
   ]
  },
  {
   "cell_type": "markdown",
   "metadata": {},
   "source": [
    "### Read all organizations"
   ]
  },
  {
   "cell_type": "code",
   "execution_count": 502,
   "metadata": {
    "collapsed": false
   },
   "outputs": [
    {
     "data": {
      "text/plain": [
       "'name,permalink,updated_at\\n'"
      ]
     },
     "execution_count": 502,
     "metadata": {},
     "output_type": "execute_result"
    }
   ],
   "source": [
    "input_file = open('ids_data/organizations.csv')\n",
    "input_file.readline()"
   ]
  },
  {
   "cell_type": "code",
   "execution_count": 503,
   "metadata": {
    "collapsed": true
   },
   "outputs": [],
   "source": [
    "pattern = re.compile('.*,/organizations/(.*),.*')"
   ]
  },
  {
   "cell_type": "code",
   "execution_count": 504,
   "metadata": {
    "collapsed": true
   },
   "outputs": [],
   "source": [
    "def store_organization(org):\n",
    "    store_headquarters(org)\n",
    "    store_offices(org)\n",
    "    store_competitors_details(org)\n",
    "    store_organization_properties(org)"
   ]
  },
  {
   "cell_type": "code",
   "execution_count": 600,
   "metadata": {
    "collapsed": false,
    "scrolled": true
   },
   "outputs": [
    {
     "name": "stdout",
     "output_type": "stream",
     "text": [
      "aarsh-infotech\n",
      "the-law-offices-of-david-b-shapiro\n",
      "het-zorghorloge\n",
      "the-pennsylvania-state-university\n",
      "the-game-crafter\n",
      "ironworks-consulting\n",
      "la-sirena\n",
      "bistro\n",
      "saic-capital\n",
      "mirchee\n",
      "paintbox-catering-and-bistro-inc\n",
      "eligible-api\n"
     ]
    }
   ],
   "source": [
    "count = 0\n",
    "for line in input_file:\n",
    "    \n",
    "    permalink =  pattern.match(line).group(1)\n",
    "    print permalink\n",
    "    org = cb.organization(permalink)\n",
    "    store_founders(org)\n",
    "    if count >10:\n",
    "        break\n",
    "    else:\n",
    "        count+=1"
   ]
  },
  {
   "cell_type": "code",
   "execution_count": 337,
   "metadata": {
    "collapsed": true
   },
   "outputs": [],
   "source": [
    "PROPERTIES = [\n",
    "    'closed_on',\n",
    "    'closed_on_trust_code',\n",
    "    'founded_on',\n",
    "    'founded_on_trust_code',\n",
    "    'is_closed',\n",
    "    'name',\n",
    "    'num_employees_max',\n",
    "    'num_employees_min',\n",
    "    'number_of_investments',\n",
    "    'stock_exchange',\n",
    "    'stock_symbol',\n",
    "    'total_funding_usd',\n",
    "    'created_at',\n",
    "    'updated_at',\n",
    "    'role_company',\n",
    "    'role_group',\n",
    "    'role_investor',\n",
    "    'role_school',\n",
    "]\n",
    "\n",
    "RELATIONSHIP_ADDRESS = [\n",
    "    'city',\n",
    "    'region',\n",
    "    'country',\n",
    "    'latitude',\n",
    "    'longitude',\n",
    "]\n",
    "\n",
    "RELATIONSHIP_ACQUISITION = [\n",
    "    'price',\n",
    "    'price_currency_code',\n",
    "    'price_usd',\n",
    "    'payment_type',\n",
    "    'acquisition_type',\n",
    "    'acquisition_status',\n",
    "    'disposition_of_acquired',\n",
    "    'announced_on',\n",
    "    'announced_on_trust_code',\n",
    "    'completed_on',\n",
    "]"
   ]
  },
  {
   "cell_type": "markdown",
   "metadata": {},
   "source": [
    "## People "
   ]
  },
  {
   "cell_type": "markdown",
   "metadata": {},
   "source": [
    "### Create Files"
   ]
  },
  {
   "cell_type": "markdown",
   "metadata": {},
   "source": [
    "#### Degrees"
   ]
  },
  {
   "cell_type": "code",
   "execution_count": 692,
   "metadata": {
    "collapsed": true
   },
   "outputs": [],
   "source": [
    "degrees_file = open('data/degrees.csv', 'w')\n",
    "degrees_file.write(\n",
    "'uuid,\\\n",
    "person_uuid,\\\n",
    "school_uuid,\\\n",
    "started_on,\\\n",
    "started_on_trust_code,\\\n",
    "is_completed,\\\n",
    "completed_on,\\\n",
    "completed_on_trust_code,\\\n",
    "degree_type_name,\\\n",
    "degree_subject,\\\n",
    "created_at,\\\n",
    "updated_at'\n",
    ")\n",
    "degrees_file.close()"
   ]
  },
  {
   "cell_type": "code",
   "execution_count": 680,
   "metadata": {
    "collapsed": true
   },
   "outputs": [],
   "source": [
    "def store_degrees(person):\n",
    "    degrees_file = open('data/degrees.csv', 'a')\n",
    "    for degree in person.degrees:\n",
    "        degrees_file.write(\n",
    "            degree.uuid+\",\"+\\\n",
    "            person.uuid+\",\"+\\\n",
    "            degree.school[0].uuid+\",\"+\\\n",
    "            str(degree.started_on)+\",\"+\\\n",
    "            str(degree.started_on_trust_code)+\",\"+\\\n",
    "            str(degree.is_completed)+\",\"+\\\n",
    "            str(degree.completed_on)+\",\"+\\\n",
    "            str(degree.completed_on_trust_code)+\",\"+\\\n",
    "            str(degree.degree_type_name)+\",\"+\\\n",
    "            str(degree.degree_subject)+\",\"+\\\n",
    "            str(degree.created_at)+\",\"+\\\n",
    "            str(degree.updated_at)+\"\\n\"\n",
    "        )\n",
    "    degrees_file.close()"
   ]
  },
  {
   "cell_type": "markdown",
   "metadata": {},
   "source": [
    "#### Jobs"
   ]
  },
  {
   "cell_type": "code",
   "execution_count": 679,
   "metadata": {
    "collapsed": false
   },
   "outputs": [],
   "source": [
    "jobs_file = open('data/jobs.csv','w')\n",
    "jobs_file.write(\n",
    "'ended_on,\\\n",
    "ended_on_trust_code,\\\n",
    "started_on,\\\n",
    "started_on_trust_code,\\\n",
    "title,\\\n",
    "uuid,\\\n",
    "person_uuid,\\\n",
    "org_uuid\\n'\n",
    ")\n",
    "jobs_file.close()"
   ]
  },
  {
   "cell_type": "code",
   "execution_count": 689,
   "metadata": {
    "collapsed": false
   },
   "outputs": [],
   "source": [
    "def store_jobs(person):\n",
    "    jobs_file = open('data/jobs.csv','a')\n",
    "    for job in person.jobs:\n",
    "        jobs_file.write(\n",
    "            str(job.ended_on)+\",\"+\\\n",
    "            str(job.ended_on_trust_code)+\",\"+\\\n",
    "            str(job.started_on)+\",\"+\\\n",
    "            str(job.started_on_trust_code)+\",\"+\\\n",
    "            str(job.title)+\",\"+\\\n",
    "            str(job.uuid)+\",\"+\\\n",
    "            str(person.uuid)+\",\"+\\\n",
    "            str(job.data['relationships']['organization']['uuid'])+\"\\n\"\n",
    "        )\n",
    "    jobs_file.close()\n",
    "    "
   ]
  },
  {
   "cell_type": "markdown",
   "metadata": {},
   "source": [
    "### Read all persons"
   ]
  },
  {
   "cell_type": "code",
   "execution_count": 602,
   "metadata": {
    "collapsed": false
   },
   "outputs": [
    {
     "data": {
      "text/plain": [
       "'name,permalink,updated_at\\n'"
      ]
     },
     "execution_count": 602,
     "metadata": {},
     "output_type": "execute_result"
    }
   ],
   "source": [
    "input_file = open('ids_data/people.csv')\n",
    "input_file.readline()"
   ]
  },
  {
   "cell_type": "code",
   "execution_count": 604,
   "metadata": {
    "collapsed": true
   },
   "outputs": [],
   "source": [
    "pattern_people = re.compile('.*,/people/(.*),.*')"
   ]
  },
  {
   "cell_type": "code",
   "execution_count": 693,
   "metadata": {
    "collapsed": false
   },
   "outputs": [
    {
     "name": "stdout",
     "output_type": "stream",
     "text": [
      "gabriella-gomez-mont\n",
      "keith-milburn\n",
      "tan-choon-shian\n",
      "marc-casellas\n",
      "tariq-ali-asghar\n",
      "maulin-v-shah\n",
      "nabil-hachicha\n",
      "stacy-templeton\n",
      "jihoon-kwon\n",
      "lawrence-wang-2\n",
      "kathleen-reed\n",
      "vineet-raheja\n"
     ]
    }
   ],
   "source": [
    "count = 0\n",
    "for line in input_file:\n",
    "    permalink = pattern_people.match(line).group(1)\n",
    "    print permalink\n",
    "    person = cb.person(permalink)\n",
    "    store_degrees(person)\n",
    "    store_jobs(person)\n",
    "    if count>10:\n",
    "        break\n",
    "    else:\n",
    "        count +=1"
   ]
  },
  {
   "cell_type": "code",
   "execution_count": null,
   "metadata": {
    "collapsed": true
   },
   "outputs": [],
   "source": []
  }
 ],
 "metadata": {
  "kernelspec": {
   "display_name": "Python 2",
   "language": "python",
   "name": "python2"
  },
  "language_info": {
   "codemirror_mode": {
    "name": "ipython",
    "version": 2
   },
   "file_extension": ".py",
   "mimetype": "text/x-python",
   "name": "python",
   "nbconvert_exporter": "python",
   "pygments_lexer": "ipython2",
   "version": "2.7.10"
  }
 },
 "nbformat": 4,
 "nbformat_minor": 1
}
