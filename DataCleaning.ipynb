{
 "cells": [
  {
   "cell_type": "code",
   "execution_count": null,
   "metadata": {
    "collapsed": false
   },
   "outputs": [],
   "source": [
    "% matplotlib inline\n",
    "import MySQLdb\n",
    "import pandas as pd\n",
    "import numpy as np\n",
    "import matplotlib.pyplot as plt"
   ]
  },
  {
   "cell_type": "code",
   "execution_count": null,
   "metadata": {
    "collapsed": false
   },
   "outputs": [],
   "source": [
    "db = MySQLdb.connect(host=\"crunchbase.ckfkhzm7cot3.us-west-2.rds.amazonaws.com\",\n",
    "                     port=3306,\n",
    "                     user=\"root\",         # your username\n",
    "                     passwd=\"root1234\",  # your password\n",
    "                     db=\"analytics_2\")        # name of the data base\n"
   ]
  },
  {
   "cell_type": "code",
   "execution_count": null,
   "metadata": {
    "collapsed": true
   },
   "outputs": [],
   "source": []
  },
  {
   "cell_type": "code",
   "execution_count": null,
   "metadata": {
    "collapsed": true
   },
   "outputs": [],
   "source": [
    "cur = db.cursor()"
   ]
  },
  {
   "cell_type": "code",
   "execution_count": null,
   "metadata": {
    "collapsed": false
   },
   "outputs": [],
   "source": [
    "count = cur.execute(\"SELECT count(*) FROM cb_objects\")"
   ]
  },
  {
   "cell_type": "markdown",
   "metadata": {},
   "source": [
    "#### Load into pandas dataframe from database"
   ]
  },
  {
   "cell_type": "code",
   "execution_count": null,
   "metadata": {
    "collapsed": false
   },
   "outputs": [],
   "source": [
    "df_mysql = pd.read_sql('select * from cb_objects LIMIT 100;', con=db)"
   ]
  },
  {
   "cell_type": "code",
   "execution_count": null,
   "metadata": {
    "collapsed": false
   },
   "outputs": [],
   "source": [
    "persons = pd.read_sql('Select * from cb_objects where entity_type = \\'Person\\'', con=db)"
   ]
  },
  {
   "cell_type": "code",
   "execution_count": null,
   "metadata": {
    "collapsed": false
   },
   "outputs": [],
   "source": [
    "relationships = pd.read_sql('Select * from cb_relationships', con=db)"
   ]
  },
  {
   "cell_type": "code",
   "execution_count": null,
   "metadata": {
    "collapsed": true
   },
   "outputs": [],
   "source": [
    "degrees = pd.read_sql('Select * from cb_degrees', con=db)"
   ]
  },
  {
   "cell_type": "code",
   "execution_count": null,
   "metadata": {
    "collapsed": true
   },
   "outputs": [],
   "source": [
    "funding_rounds = pd.read_sql('Select * from cb_funding_rounds', con=db)"
   ]
  },
  {
   "cell_type": "markdown",
   "metadata": {},
   "source": [
    "#### Fill nan for empty and None values"
   ]
  },
  {
   "cell_type": "code",
   "execution_count": null,
   "metadata": {
    "collapsed": true
   },
   "outputs": [],
   "source": [
    "persons.fillna(value=np.nan, inplace=True)\n",
    "relationships.fillna(value=np.nan, inplace=True)\n",
    "degrees.fillna(value=np.nan, inplace=True)"
   ]
  },
  {
   "cell_type": "markdown",
   "metadata": {},
   "source": [
    "#### People\n",
    "\n",
    "For the baseline model we need to consider only people who are Founders, CEO, CIO etc"
   ]
  },
  {
   "cell_type": "markdown",
   "metadata": {},
   "source": [
    "#### Work Experience"
   ]
  },
  {
   "cell_type": "code",
   "execution_count": null,
   "metadata": {
    "collapsed": true
   },
   "outputs": [],
   "source": [
    "work_ex = pd.merge(persons, relationships, how='inner', right_on='person_object_id', left_on='id')"
   ]
  },
  {
   "cell_type": "code",
   "execution_count": null,
   "metadata": {
    "collapsed": false
   },
   "outputs": [],
   "source": [
    "print 'Total number of work ex rows', len(work_ex)"
   ]
  },
  {
   "cell_type": "code",
   "execution_count": null,
   "metadata": {
    "collapsed": false,
    "scrolled": true
   },
   "outputs": [],
   "source": [
    "workex_with_no_persons = work_ex[work_ex['id_x'].isnull()]\n",
    "person_with_no_workex = work_ex[work_ex['id_y'].isnull()]\n",
    "print \"workex rows with no corresponding person\",len(workex_with_no_persons)\n",
    "print \"Persons with no details about their workex\",len(person_with_no_workex)"
   ]
  },
  {
   "cell_type": "code",
   "execution_count": null,
   "metadata": {
    "collapsed": false,
    "scrolled": true
   },
   "outputs": [],
   "source": [
    "print \"Number of rows with no start_at for workex is: \",len(work_ex[work_ex['start_at'].isnull()]), \"which is roughly half the number of rows\""
   ]
  },
  {
   "cell_type": "markdown",
   "metadata": {},
   "source": [
    "Idea : We can fill the start_at date with one of the following:\n",
    "1. founding_date of the company\n",
    "2. created_at_y which is when the record was created in the database\n",
    "\n",
    "To analyse we can first build a plot of the different between the 2 and see the relation between the title, created at and founding date. It can mean that most of the founders have their profile created on crunchbase much later than the founding date, in which case we can safely use the founding date. However, for employess we an use the created_at."
   ]
  },
  {
   "cell_type": "code",
   "execution_count": null,
   "metadata": {
    "collapsed": false
   },
   "outputs": [],
   "source": [
    "work_ex['title'].unique"
   ]
  },
  {
   "cell_type": "markdown",
   "metadata": {},
   "source": [
    "This below line of code filters all the work ex where the person is one of the founding members or the board of directors"
   ]
  },
  {
   "cell_type": "code",
   "execution_count": null,
   "metadata": {
    "collapsed": false
   },
   "outputs": [],
   "source": [
    "founders = work_ex.loc[work_ex['id_x'].isin(work_ex.loc[work_ex['title'].str.contains('Cheif|C[A-Z]O|Co\\-Founder|Co\\-founder|Board', regex=True),'id_x'])]"
   ]
  },
  {
   "cell_type": "code",
   "execution_count": null,
   "metadata": {
    "collapsed": false
   },
   "outputs": [],
   "source": [
    "# import dateutil\n",
    "# founderspd.to_datetime(founders['start_at'])\n",
    "# founders['start_at']\n",
    "# len(founders[founders['start_at'].isnull()])"
   ]
  },
  {
   "cell_type": "code",
   "execution_count": null,
   "metadata": {
    "collapsed": false
   },
   "outputs": [],
   "source": [
    "founders.groupby('id_x').min()#agg({'start_at':min})"
   ]
  },
  {
   "cell_type": "code",
   "execution_count": null,
   "metadata": {
    "collapsed": false
   },
   "outputs": [],
   "source": [
    "founder_groups = founders.groupby('id_x')#.agg({'start_at':pd.datetime})\n",
    "founder_groups.groups"
   ]
  },
  {
   "cell_type": "code",
   "execution_count": null,
   "metadata": {
    "collapsed": false
   },
   "outputs": [],
   "source": [
    "import datetime\n",
    "# pd.to_datetime(founders['start_at'])[5] > pd.to_datetime('2012-01-01')\n",
    "np.min(pd.to_datetime(founders['start_at']))"
   ]
  },
  {
   "cell_type": "markdown",
   "metadata": {},
   "source": [
    "TODO: Aggregate as the min of teh start_at, this will give the first date when work ex added"
   ]
  },
  {
   "cell_type": "code",
   "execution_count": null,
   "metadata": {
    "collapsed": true
   },
   "outputs": [],
   "source": []
  },
  {
   "cell_type": "markdown",
   "metadata": {},
   "source": [
    "#### Education"
   ]
  },
  {
   "cell_type": "code",
   "execution_count": null,
   "metadata": {
    "collapsed": false
   },
   "outputs": [],
   "source": [
    "len(degrees)"
   ]
  },
  {
   "cell_type": "code",
   "execution_count": null,
   "metadata": {
    "collapsed": false
   },
   "outputs": [],
   "source": [
    "degrees[:5]"
   ]
  },
  {
   "cell_type": "code",
   "execution_count": null,
   "metadata": {
    "collapsed": false,
    "scrolled": true
   },
   "outputs": [],
   "source": [
    "len(degrees['object_id'].unique())"
   ]
  },
  {
   "cell_type": "markdown",
   "metadata": {},
   "source": [
    "We have degree details for the above number of people"
   ]
  },
  {
   "cell_type": "markdown",
   "metadata": {},
   "source": [
    "We need to give a rating to the degrees. All Bachelors will have rating as 1. Masters will have rating 2 and PHD/MBA will have rating 3.As there are around 7000 differnet degrees, for other types of degrees we can use the median of the rest of the table. "
   ]
  },
  {
   "cell_type": "code",
   "execution_count": null,
   "metadata": {
    "collapsed": false
   },
   "outputs": [],
   "source": [
    "degrees.loc[degrees['degree_type'].str.contains('B\\..*'),'degree_score'] = 1"
   ]
  },
  {
   "cell_type": "code",
   "execution_count": null,
   "metadata": {
    "collapsed": false
   },
   "outputs": [],
   "source": [
    "degrees.loc[degrees['degree_type'].str.contains('Bachelor'),'degree_score'] = 1"
   ]
  },
  {
   "cell_type": "code",
   "execution_count": null,
   "metadata": {
    "collapsed": true
   },
   "outputs": [],
   "source": [
    "degrees.loc[degrees['degree_type'].str.contains('BS'),'degree_score'] = 1"
   ]
  },
  {
   "cell_type": "code",
   "execution_count": null,
   "metadata": {
    "collapsed": true
   },
   "outputs": [],
   "source": [
    "degrees.loc[degrees['degree_type'].str.contains('JD'),'degree_score'] = 1"
   ]
  },
  {
   "cell_type": "code",
   "execution_count": null,
   "metadata": {
    "collapsed": true
   },
   "outputs": [],
   "source": [
    "degrees.loc[degrees['degree_type'].str.contains('Master'),'degree_score'] = 2"
   ]
  },
  {
   "cell_type": "code",
   "execution_count": null,
   "metadata": {
    "collapsed": true
   },
   "outputs": [],
   "source": [
    "degrees.loc[degrees['degree_type'].str.contains('MS'),'degree_score'] = 2"
   ]
  },
  {
   "cell_type": "code",
   "execution_count": null,
   "metadata": {
    "collapsed": true
   },
   "outputs": [],
   "source": [
    "degrees.loc[degrees['degree_type'].str.contains('M.$'),'degree_score'] = 2"
   ]
  },
  {
   "cell_type": "code",
   "execution_count": null,
   "metadata": {
    "collapsed": true
   },
   "outputs": [],
   "source": [
    "degrees.loc[degrees['degree_type'].str.contains('M\\..*'),'degree_score'] = 2"
   ]
  },
  {
   "cell_type": "code",
   "execution_count": null,
   "metadata": {
    "collapsed": true
   },
   "outputs": [],
   "source": [
    "degrees.loc[degrees['degree_type'].str.contains('Ph\\.*D'),'degree_score'] = 3"
   ]
  },
  {
   "cell_type": "code",
   "execution_count": null,
   "metadata": {
    "collapsed": true
   },
   "outputs": [],
   "source": [
    "degrees.loc[degrees['degree_type'].str.contains('MBA'),'degree_score'] = 3"
   ]
  },
  {
   "cell_type": "code",
   "execution_count": null,
   "metadata": {
    "collapsed": true
   },
   "outputs": [],
   "source": [
    "degrees.loc[degrees['degree_type'] == '','degree_score'] = 1"
   ]
  },
  {
   "cell_type": "code",
   "execution_count": null,
   "metadata": {
    "collapsed": false
   },
   "outputs": [],
   "source": [
    "degrees['degree_score'].fillna(np.median(degrees['degree_score']), inplace=True)"
   ]
  },
  {
   "cell_type": "code",
   "execution_count": null,
   "metadata": {
    "collapsed": false
   },
   "outputs": [],
   "source": [
    "degrees[['degree_type','degree_score']][:5]"
   ]
  },
  {
   "cell_type": "code",
   "execution_count": null,
   "metadata": {
    "collapsed": false
   },
   "outputs": [],
   "source": [
    "degrees.loc[degrees['degree_score'].isnull()]['degree_type'].describe()"
   ]
  },
  {
   "cell_type": "code",
   "execution_count": null,
   "metadata": {
    "collapsed": true
   },
   "outputs": [],
   "source": [
    "education = pd.merge(persons, degrees, how='inner', left_on='id', right_on='object_id')"
   ]
  },
  {
   "cell_type": "code",
   "execution_count": null,
   "metadata": {
    "collapsed": false
   },
   "outputs": [],
   "source": [
    "education_with_no_persons = education[education['id_x'].isnull()]\n",
    "person_with_no_education = education[education['id_y'].isnull()]\n",
    "print \"Education rows with no corresponding person\",len(education_with_no_persons)\n",
    "print \"Persons with no details about their education\",len(person_with_no_education)"
   ]
  },
  {
   "cell_type": "markdown",
   "metadata": {},
   "source": [
    "Next Steps: \n",
    "1. We have sparse data for education. What to do with it?\n",
    "2. How to clean workex data?"
   ]
  },
  {
   "cell_type": "code",
   "execution_count": null,
   "metadata": {
    "collapsed": false
   },
   "outputs": [],
   "source": []
  },
  {
   "cell_type": "markdown",
   "metadata": {},
   "source": [
    "#### Funding Rounds"
   ]
  },
  {
   "cell_type": "code",
   "execution_count": null,
   "metadata": {
    "collapsed": false
   },
   "outputs": [],
   "source": [
    "len(funding_rounds)"
   ]
  },
  {
   "cell_type": "code",
   "execution_count": null,
   "metadata": {
    "collapsed": false
   },
   "outputs": [],
   "source": [
    "work_ex_funding = pd.merge(work_ex, funding_rounds,how='inner', left_on='relationship_object_id', right_on='object_id')"
   ]
  },
  {
   "cell_type": "code",
   "execution_count": null,
   "metadata": {
    "collapsed": false
   },
   "outputs": [],
   "source": [
    "len(work_ex_funding)"
   ]
  },
  {
   "cell_type": "code",
   "execution_count": null,
   "metadata": {
    "collapsed": false
   },
   "outputs": [],
   "source": [
    "work_ex_funding[:5]\n",
    "funding_rounds['funded_at_datetime']= pd.to_datetime(funding_rounds['funded_at'])\n",
    "funding_rounds[['funded_at_datetime','funded_at']]"
   ]
  },
  {
   "cell_type": "code",
   "execution_count": null,
   "metadata": {
    "collapsed": false
   },
   "outputs": [],
   "source": [
    "kevin = work_ex_funding[work_ex_funding['id_x']=='p:3']\n",
    "kevin[['title','funded_at']]\n",
    "kevin"
   ]
  },
  {
   "cell_type": "code",
   "execution_count": null,
   "metadata": {
    "collapsed": false
   },
   "outputs": [],
   "source": [
    "kevin1 = work_ex[work_ex['id_x']=='p:3']\n",
    "# kevin1[['title','funded_at']]\n",
    "# kevin1['start_at_datetime'] = pd.to_datetime(kevin['start_at'].dropna(),yearfirst = True)\n",
    "# pd.to_datetime(kevin['end_at'])\n",
    "# pd.to_datetime(kevin['end_at'],infer_datetime_format=True)\n",
    "# kevin1[['start_at', 'end_at','start_at_datetime', 'end_at_datetime']]\n",
    "# kevin1[['start_at', 'end_at']]\n",
    "# pd.to_datetime(kevin1['start_at'].dropna())"
   ]
  },
  {
   "cell_type": "code",
   "execution_count": null,
   "metadata": {
    "collapsed": false
   },
   "outputs": [],
   "source": [
    "a = '2001-02-01'\n",
    "pd.to_datetime(a)"
   ]
  },
  {
   "cell_type": "code",
   "execution_count": null,
   "metadata": {
    "collapsed": false
   },
   "outputs": [],
   "source": [
    "a = work_ex[:5].groupby('id_x')\n",
    "work_ex[:10]"
   ]
  },
  {
   "cell_type": "markdown",
   "metadata": {},
   "source": [
    "### Train Test and Evaluation Data\n",
    "\n",
    "We need to divide the data into train test and evaluation data. We will divide it in the following ratio:\n",
    "\n",
    "1.Train - 60%\n",
    "\n",
    "2.Test - 20%\n",
    "\n",
    "3.Evaluation - 20%\n"
   ]
  },
  {
   "cell_type": "markdown",
   "metadata": {},
   "source": []
  },
  {
   "cell_type": "markdown",
   "metadata": {
    "collapsed": true
   },
   "source": [
    "### Baseline Model"
   ]
  },
  {
   "cell_type": "markdown",
   "metadata": {},
   "source": [
    "Our baseline model is dependent on Education and work experience of the founder. We will train our linear regression model on the score of the founder based on the above 2 features and run it on the test data. \n",
    "\n",
    "We will then find the error rate of our baseline model on the test data."
   ]
  },
  {
   "cell_type": "code",
   "execution_count": null,
   "metadata": {
    "collapsed": true
   },
   "outputs": [],
   "source": []
  }
 ],
 "metadata": {
  "kernelspec": {
   "display_name": "Python 2",
   "language": "python",
   "name": "python2"
  },
  "language_info": {
   "codemirror_mode": {
    "name": "ipython",
    "version": 2
   },
   "file_extension": ".py",
   "mimetype": "text/x-python",
   "name": "python",
   "nbconvert_exporter": "python",
   "pygments_lexer": "ipython2",
   "version": "2.7.10"
  }
 },
 "nbformat": 4,
 "nbformat_minor": 1
}
