{
 "cells": [
  {
   "cell_type": "code",
   "execution_count": 103,
   "metadata": {
    "collapsed": false
   },
   "outputs": [],
   "source": [
    "% matplotlib inline\n",
    "import MySQLdb\n",
    "import pandas as pd\n",
    "import numpy as np\n",
    "import matplotlib.pyplot as plt"
   ]
  },
  {
   "cell_type": "code",
   "execution_count": null,
   "metadata": {
    "collapsed": false
   },
   "outputs": [],
   "source": [
    "db = MySQLdb.connect(host=\"crunchbase.ckfkhzm7cot3.us-west-2.rds.amazonaws.com\",\n",
    "                     port=3306,\n",
    "                     user=\"root\",         # your username\n",
    "                     passwd=\"root1234\",  # your password\n",
    "                     db=\"analytics_2\")        # name of the data base\n"
   ]
  },
  {
   "cell_type": "code",
   "execution_count": null,
   "metadata": {
    "collapsed": true
   },
   "outputs": [],
   "source": [
    "cur = db.cursor()"
   ]
  },
  {
   "cell_type": "code",
   "execution_count": null,
   "metadata": {
    "collapsed": false
   },
   "outputs": [],
   "source": [
    "count = cur.execute(\"SELECT count(*) FROM cb_objects\")"
   ]
  },
  {
   "cell_type": "markdown",
   "metadata": {},
   "source": [
    "#### Load into pandas dataframe from database"
   ]
  },
  {
   "cell_type": "code",
   "execution_count": null,
   "metadata": {
    "collapsed": false
   },
   "outputs": [],
   "source": [
    "df_mysql = pd.read_sql('select * from cb_objects LIMIT 100;', con=db)"
   ]
  },
  {
   "cell_type": "code",
   "execution_count": null,
   "metadata": {
    "collapsed": false
   },
   "outputs": [],
   "source": [
    "persons = pd.read_sql('Select * from cb_objects where entity_type = \\'Person\\'', con=db)"
   ]
  },
  {
   "cell_type": "code",
   "execution_count": null,
   "metadata": {
    "collapsed": false
   },
   "outputs": [],
   "source": [
    "relationships = pd.read_sql('Select * from cb_relationships', con=db)"
   ]
  },
  {
   "cell_type": "code",
   "execution_count": null,
   "metadata": {
    "collapsed": true
   },
   "outputs": [],
   "source": [
    "degrees = pd.read_sql('Select * from cb_degrees', con=db)"
   ]
  },
  {
   "cell_type": "markdown",
   "metadata": {},
   "source": [
    "#### Fill nan for empty and None values"
   ]
  },
  {
   "cell_type": "code",
   "execution_count": 106,
   "metadata": {
    "collapsed": true
   },
   "outputs": [],
   "source": [
    "persons.fillna(value=np.nan, inplace=True)\n",
    "relationships.fillna(value=np.nan, inplace=True)\n",
    "degrees.fillna(value=np.nan, inplace=True)"
   ]
  },
  {
   "cell_type": "markdown",
   "metadata": {},
   "source": [
    "#### Work Experience"
   ]
  },
  {
   "cell_type": "code",
   "execution_count": null,
   "metadata": {
    "collapsed": true
   },
   "outputs": [],
   "source": [
    "work_ex = pd.merge(persons, relationships, how='outer', right_on='person_object_id', left_on='id')"
   ]
  },
  {
   "cell_type": "code",
   "execution_count": 111,
   "metadata": {
    "collapsed": false
   },
   "outputs": [
    {
     "name": "stdout",
     "output_type": "stream",
     "text": [
      "Total number of work ex rows 428251\n"
     ]
    }
   ],
   "source": [
    "print 'Total number of work ex rows', len(work_ex)"
   ]
  },
  {
   "cell_type": "code",
   "execution_count": 73,
   "metadata": {
    "collapsed": false,
    "scrolled": true
   },
   "outputs": [
    {
     "name": "stdout",
     "output_type": "stream",
     "text": [
      "workex rows with no corresponding person 921\n",
      "Persons with no details about their workex 25373\n"
     ]
    }
   ],
   "source": [
    "workex_with_no_persons = work_ex[work_ex['id_x'].isnull()]\n",
    "person_with_no_workex = work_ex[work_ex['id_y'].isnull()]\n",
    "print \"workex rows with no corresponding person\",len(workex_with_no_persons)\n",
    "print \"Persons with no details about their workex\",len(person_with_no_workex)"
   ]
  },
  {
   "cell_type": "code",
   "execution_count": 110,
   "metadata": {
    "collapsed": false,
    "scrolled": true
   },
   "outputs": [
    {
     "name": "stdout",
     "output_type": "stream",
     "text": [
      "Number of rows with no start_at for workex is:  221256 which is roughly half the number of rows\n"
     ]
    }
   ],
   "source": [
    "print \"Number of rows with no start_at for workex is: \",len(work_ex[work_ex['start_at'].isnull()]), \"which is roughly half the number of rows\""
   ]
  },
  {
   "cell_type": "markdown",
   "metadata": {},
   "source": [
    "Idea : We can fill the start_at date with one of the following:\n",
    "1. founding_date of the company\n",
    "2. created_at_y which is when the record was created in the database\n",
    "\n",
    "To analyse we can first build a plot of the different between the 2 and see the relation between the title, created at and founding date. It can mean that most of the founders have their profile created on crunchbase much later than the founding date, in which case we can safely use the founding date. However, for employess we an use the created_at."
   ]
  },
  {
   "cell_type": "code",
   "execution_count": 112,
   "metadata": {
    "collapsed": false
   },
   "outputs": [
    {
     "data": {
      "text/html": [
       "<div>\n",
       "<table border=\"1\" class=\"dataframe\">\n",
       "  <thead>\n",
       "    <tr style=\"text-align: right;\">\n",
       "      <th></th>\n",
       "      <th>id_x</th>\n",
       "      <th>entity_type</th>\n",
       "      <th>entity_id</th>\n",
       "      <th>parent_id</th>\n",
       "      <th>name</th>\n",
       "      <th>normalized_name</th>\n",
       "      <th>permalink</th>\n",
       "      <th>category_code</th>\n",
       "      <th>status</th>\n",
       "      <th>founded_at</th>\n",
       "      <th>...</th>\n",
       "      <th>relationship_id</th>\n",
       "      <th>person_object_id</th>\n",
       "      <th>relationship_object_id</th>\n",
       "      <th>start_at</th>\n",
       "      <th>end_at</th>\n",
       "      <th>is_past</th>\n",
       "      <th>sequence</th>\n",
       "      <th>title</th>\n",
       "      <th>created_at_y</th>\n",
       "      <th>updated_at_y</th>\n",
       "    </tr>\n",
       "  </thead>\n",
       "  <tbody>\n",
       "    <tr>\n",
       "      <th>0</th>\n",
       "      <td>p:2</td>\n",
       "      <td>Person</td>\n",
       "      <td>2.0</td>\n",
       "      <td>NaN</td>\n",
       "      <td>Ben Elowitz</td>\n",
       "      <td>ben elowitz</td>\n",
       "      <td>/person/ben-elowitz</td>\n",
       "      <td>NaN</td>\n",
       "      <td>operating</td>\n",
       "      <td>NaN</td>\n",
       "      <td>...</td>\n",
       "      <td>1.0</td>\n",
       "      <td>p:2</td>\n",
       "      <td>c:1</td>\n",
       "      <td>NaN</td>\n",
       "      <td>NaN</td>\n",
       "      <td>0.0</td>\n",
       "      <td>8.0</td>\n",
       "      <td>Co-Founder/CEO/Board of Directors</td>\n",
       "      <td>2007-05-25 07:03:54</td>\n",
       "      <td>2013-06-03 09:58:46</td>\n",
       "    </tr>\n",
       "    <tr>\n",
       "      <th>1</th>\n",
       "      <td>p:2</td>\n",
       "      <td>Person</td>\n",
       "      <td>2.0</td>\n",
       "      <td>NaN</td>\n",
       "      <td>Ben Elowitz</td>\n",
       "      <td>ben elowitz</td>\n",
       "      <td>/person/ben-elowitz</td>\n",
       "      <td>NaN</td>\n",
       "      <td>operating</td>\n",
       "      <td>NaN</td>\n",
       "      <td>...</td>\n",
       "      <td>11366.0</td>\n",
       "      <td>p:2</td>\n",
       "      <td>c:4993</td>\n",
       "      <td>NaN</td>\n",
       "      <td>NaN</td>\n",
       "      <td>1.0</td>\n",
       "      <td>6.0</td>\n",
       "      <td>Co-founder &amp; VP</td>\n",
       "      <td>2008-05-06 00:04:18</td>\n",
       "      <td>2013-06-02 16:56:52</td>\n",
       "    </tr>\n",
       "    <tr>\n",
       "      <th>2</th>\n",
       "      <td>p:2</td>\n",
       "      <td>Person</td>\n",
       "      <td>2.0</td>\n",
       "      <td>NaN</td>\n",
       "      <td>Ben Elowitz</td>\n",
       "      <td>ben elowitz</td>\n",
       "      <td>/person/ben-elowitz</td>\n",
       "      <td>NaN</td>\n",
       "      <td>operating</td>\n",
       "      <td>NaN</td>\n",
       "      <td>...</td>\n",
       "      <td>11367.0</td>\n",
       "      <td>p:2</td>\n",
       "      <td>c:233024</td>\n",
       "      <td>NaN</td>\n",
       "      <td>NaN</td>\n",
       "      <td>1.0</td>\n",
       "      <td>2.0</td>\n",
       "      <td>Business Development</td>\n",
       "      <td>2008-05-06 00:04:18</td>\n",
       "      <td>2013-06-02 16:56:52</td>\n",
       "    </tr>\n",
       "    <tr>\n",
       "      <th>3</th>\n",
       "      <td>p:2</td>\n",
       "      <td>Person</td>\n",
       "      <td>2.0</td>\n",
       "      <td>NaN</td>\n",
       "      <td>Ben Elowitz</td>\n",
       "      <td>ben elowitz</td>\n",
       "      <td>/person/ben-elowitz</td>\n",
       "      <td>NaN</td>\n",
       "      <td>operating</td>\n",
       "      <td>NaN</td>\n",
       "      <td>...</td>\n",
       "      <td>22537.0</td>\n",
       "      <td>p:2</td>\n",
       "      <td>f:1017</td>\n",
       "      <td>NaN</td>\n",
       "      <td>NaN</td>\n",
       "      <td>0.0</td>\n",
       "      <td>7.0</td>\n",
       "      <td>Limited Partner</td>\n",
       "      <td>2008-10-07 02:23:04</td>\n",
       "      <td>2010-10-08 21:02:10</td>\n",
       "    </tr>\n",
       "    <tr>\n",
       "      <th>4</th>\n",
       "      <td>p:2</td>\n",
       "      <td>Person</td>\n",
       "      <td>2.0</td>\n",
       "      <td>NaN</td>\n",
       "      <td>Ben Elowitz</td>\n",
       "      <td>ben elowitz</td>\n",
       "      <td>/person/ben-elowitz</td>\n",
       "      <td>NaN</td>\n",
       "      <td>operating</td>\n",
       "      <td>NaN</td>\n",
       "      <td>...</td>\n",
       "      <td>112873.0</td>\n",
       "      <td>p:2</td>\n",
       "      <td>c:18661</td>\n",
       "      <td>NaN</td>\n",
       "      <td>NaN</td>\n",
       "      <td>1.0</td>\n",
       "      <td>3.0</td>\n",
       "      <td>Consultant</td>\n",
       "      <td>2011-05-11 01:24:28</td>\n",
       "      <td>2011-05-11 01:24:28</td>\n",
       "    </tr>\n",
       "  </tbody>\n",
       "</table>\n",
       "<p>5 rows × 51 columns</p>\n",
       "</div>"
      ],
      "text/plain": [
       "  id_x entity_type  entity_id  parent_id         name normalized_name  \\\n",
       "0  p:2      Person        2.0        NaN  Ben Elowitz     ben elowitz   \n",
       "1  p:2      Person        2.0        NaN  Ben Elowitz     ben elowitz   \n",
       "2  p:2      Person        2.0        NaN  Ben Elowitz     ben elowitz   \n",
       "3  p:2      Person        2.0        NaN  Ben Elowitz     ben elowitz   \n",
       "4  p:2      Person        2.0        NaN  Ben Elowitz     ben elowitz   \n",
       "\n",
       "             permalink  category_code     status  founded_at  \\\n",
       "0  /person/ben-elowitz            NaN  operating         NaN   \n",
       "1  /person/ben-elowitz            NaN  operating         NaN   \n",
       "2  /person/ben-elowitz            NaN  operating         NaN   \n",
       "3  /person/ben-elowitz            NaN  operating         NaN   \n",
       "4  /person/ben-elowitz            NaN  operating         NaN   \n",
       "\n",
       "          ...          relationship_id person_object_id  \\\n",
       "0         ...                      1.0              p:2   \n",
       "1         ...                  11366.0              p:2   \n",
       "2         ...                  11367.0              p:2   \n",
       "3         ...                  22537.0              p:2   \n",
       "4         ...                 112873.0              p:2   \n",
       "\n",
       "  relationship_object_id start_at end_at  is_past  sequence  \\\n",
       "0                    c:1      NaN    NaN      0.0       8.0   \n",
       "1                 c:4993      NaN    NaN      1.0       6.0   \n",
       "2               c:233024      NaN    NaN      1.0       2.0   \n",
       "3                 f:1017      NaN    NaN      0.0       7.0   \n",
       "4                c:18661      NaN    NaN      1.0       3.0   \n",
       "\n",
       "                               title        created_at_y        updated_at_y  \n",
       "0  Co-Founder/CEO/Board of Directors 2007-05-25 07:03:54 2013-06-03 09:58:46  \n",
       "1                    Co-founder & VP 2008-05-06 00:04:18 2013-06-02 16:56:52  \n",
       "2               Business Development 2008-05-06 00:04:18 2013-06-02 16:56:52  \n",
       "3                    Limited Partner 2008-10-07 02:23:04 2010-10-08 21:02:10  \n",
       "4                         Consultant 2011-05-11 01:24:28 2011-05-11 01:24:28  \n",
       "\n",
       "[5 rows x 51 columns]"
      ]
     },
     "execution_count": 112,
     "metadata": {},
     "output_type": "execute_result"
    }
   ],
   "source": [
    "work_ex[:5]"
   ]
  },
  {
   "cell_type": "markdown",
   "metadata": {},
   "source": [
    "#### Education"
   ]
  },
  {
   "cell_type": "code",
   "execution_count": 70,
   "metadata": {
    "collapsed": false
   },
   "outputs": [
    {
     "data": {
      "text/plain": [
       "109610"
      ]
     },
     "execution_count": 70,
     "metadata": {},
     "output_type": "execute_result"
    }
   ],
   "source": [
    "len(degrees)"
   ]
  },
  {
   "cell_type": "code",
   "execution_count": null,
   "metadata": {
    "collapsed": false
   },
   "outputs": [],
   "source": [
    "degrees[:5]"
   ]
  },
  {
   "cell_type": "code",
   "execution_count": 71,
   "metadata": {
    "collapsed": false
   },
   "outputs": [
    {
     "data": {
      "text/plain": [
       "68451"
      ]
     },
     "execution_count": 71,
     "metadata": {},
     "output_type": "execute_result"
    }
   ],
   "source": [
    "len(degrees['object_id'].unique())"
   ]
  },
  {
   "cell_type": "markdown",
   "metadata": {},
   "source": [
    "We have degree details for the above number of people"
   ]
  },
  {
   "cell_type": "code",
   "execution_count": null,
   "metadata": {
    "collapsed": true
   },
   "outputs": [],
   "source": [
    "education = pd.merge(persons, degrees, how='outer', left_on='id', right_on='object_id')"
   ]
  },
  {
   "cell_type": "code",
   "execution_count": 72,
   "metadata": {
    "collapsed": false
   },
   "outputs": [
    {
     "name": "stdout",
     "output_type": "stream",
     "text": [
      "Education rows with no corresponding person 554\n",
      "Persons with no details about their education 158637\n"
     ]
    }
   ],
   "source": [
    "education_with_no_persons = education[education['id_x'].isnull()]\n",
    "person_with_no_education = education[education['id_y'].isnull()]\n",
    "print \"Education rows with no corresponding person\",len(education_with_no_persons)\n",
    "print \"Persons with no details about their education\",len(person_with_no_education)"
   ]
  },
  {
   "cell_type": "markdown",
   "metadata": {},
   "source": [
    "Next Steps: \n",
    "1. We have sparse data for education. What to do with it?\n",
    "2. How to clean workex data?"
   ]
  },
  {
   "cell_type": "code",
   "execution_count": 104,
   "metadata": {
    "collapsed": false
   },
   "outputs": [],
   "source": []
  },
  {
   "cell_type": "code",
   "execution_count": 105,
   "metadata": {
    "collapsed": false
   },
   "outputs": [
    {
     "data": {
      "text/html": [
       "<div>\n",
       "<table border=\"1\" class=\"dataframe\">\n",
       "  <thead>\n",
       "    <tr style=\"text-align: right;\">\n",
       "      <th></th>\n",
       "      <th>id_x</th>\n",
       "      <th>entity_type</th>\n",
       "      <th>entity_id</th>\n",
       "      <th>parent_id</th>\n",
       "      <th>name</th>\n",
       "      <th>normalized_name</th>\n",
       "      <th>permalink</th>\n",
       "      <th>category_code</th>\n",
       "      <th>status</th>\n",
       "      <th>founded_at</th>\n",
       "      <th>...</th>\n",
       "      <th>relationship_id</th>\n",
       "      <th>person_object_id</th>\n",
       "      <th>relationship_object_id</th>\n",
       "      <th>start_at</th>\n",
       "      <th>end_at</th>\n",
       "      <th>is_past</th>\n",
       "      <th>sequence</th>\n",
       "      <th>title</th>\n",
       "      <th>created_at_y</th>\n",
       "      <th>updated_at_y</th>\n",
       "    </tr>\n",
       "  </thead>\n",
       "  <tbody>\n",
       "    <tr>\n",
       "      <th>0</th>\n",
       "      <td>p:2</td>\n",
       "      <td>Person</td>\n",
       "      <td>2.0</td>\n",
       "      <td>NaN</td>\n",
       "      <td>Ben Elowitz</td>\n",
       "      <td>ben elowitz</td>\n",
       "      <td>/person/ben-elowitz</td>\n",
       "      <td>NaN</td>\n",
       "      <td>operating</td>\n",
       "      <td>NaN</td>\n",
       "      <td>...</td>\n",
       "      <td>1.0</td>\n",
       "      <td>p:2</td>\n",
       "      <td>c:1</td>\n",
       "      <td>NaN</td>\n",
       "      <td>NaN</td>\n",
       "      <td>0.0</td>\n",
       "      <td>8.0</td>\n",
       "      <td>Co-Founder/CEO/Board of Directors</td>\n",
       "      <td>2007-05-25 07:03:54</td>\n",
       "      <td>2013-06-03 09:58:46</td>\n",
       "    </tr>\n",
       "    <tr>\n",
       "      <th>1</th>\n",
       "      <td>p:2</td>\n",
       "      <td>Person</td>\n",
       "      <td>2.0</td>\n",
       "      <td>NaN</td>\n",
       "      <td>Ben Elowitz</td>\n",
       "      <td>ben elowitz</td>\n",
       "      <td>/person/ben-elowitz</td>\n",
       "      <td>NaN</td>\n",
       "      <td>operating</td>\n",
       "      <td>NaN</td>\n",
       "      <td>...</td>\n",
       "      <td>11366.0</td>\n",
       "      <td>p:2</td>\n",
       "      <td>c:4993</td>\n",
       "      <td>NaN</td>\n",
       "      <td>NaN</td>\n",
       "      <td>1.0</td>\n",
       "      <td>6.0</td>\n",
       "      <td>Co-founder &amp; VP</td>\n",
       "      <td>2008-05-06 00:04:18</td>\n",
       "      <td>2013-06-02 16:56:52</td>\n",
       "    </tr>\n",
       "    <tr>\n",
       "      <th>2</th>\n",
       "      <td>p:2</td>\n",
       "      <td>Person</td>\n",
       "      <td>2.0</td>\n",
       "      <td>NaN</td>\n",
       "      <td>Ben Elowitz</td>\n",
       "      <td>ben elowitz</td>\n",
       "      <td>/person/ben-elowitz</td>\n",
       "      <td>NaN</td>\n",
       "      <td>operating</td>\n",
       "      <td>NaN</td>\n",
       "      <td>...</td>\n",
       "      <td>11367.0</td>\n",
       "      <td>p:2</td>\n",
       "      <td>c:233024</td>\n",
       "      <td>NaN</td>\n",
       "      <td>NaN</td>\n",
       "      <td>1.0</td>\n",
       "      <td>2.0</td>\n",
       "      <td>Business Development</td>\n",
       "      <td>2008-05-06 00:04:18</td>\n",
       "      <td>2013-06-02 16:56:52</td>\n",
       "    </tr>\n",
       "    <tr>\n",
       "      <th>3</th>\n",
       "      <td>p:2</td>\n",
       "      <td>Person</td>\n",
       "      <td>2.0</td>\n",
       "      <td>NaN</td>\n",
       "      <td>Ben Elowitz</td>\n",
       "      <td>ben elowitz</td>\n",
       "      <td>/person/ben-elowitz</td>\n",
       "      <td>NaN</td>\n",
       "      <td>operating</td>\n",
       "      <td>NaN</td>\n",
       "      <td>...</td>\n",
       "      <td>22537.0</td>\n",
       "      <td>p:2</td>\n",
       "      <td>f:1017</td>\n",
       "      <td>NaN</td>\n",
       "      <td>NaN</td>\n",
       "      <td>0.0</td>\n",
       "      <td>7.0</td>\n",
       "      <td>Limited Partner</td>\n",
       "      <td>2008-10-07 02:23:04</td>\n",
       "      <td>2010-10-08 21:02:10</td>\n",
       "    </tr>\n",
       "    <tr>\n",
       "      <th>4</th>\n",
       "      <td>p:2</td>\n",
       "      <td>Person</td>\n",
       "      <td>2.0</td>\n",
       "      <td>NaN</td>\n",
       "      <td>Ben Elowitz</td>\n",
       "      <td>ben elowitz</td>\n",
       "      <td>/person/ben-elowitz</td>\n",
       "      <td>NaN</td>\n",
       "      <td>operating</td>\n",
       "      <td>NaN</td>\n",
       "      <td>...</td>\n",
       "      <td>112873.0</td>\n",
       "      <td>p:2</td>\n",
       "      <td>c:18661</td>\n",
       "      <td>NaN</td>\n",
       "      <td>NaN</td>\n",
       "      <td>1.0</td>\n",
       "      <td>3.0</td>\n",
       "      <td>Consultant</td>\n",
       "      <td>2011-05-11 01:24:28</td>\n",
       "      <td>2011-05-11 01:24:28</td>\n",
       "    </tr>\n",
       "    <tr>\n",
       "      <th>5</th>\n",
       "      <td>p:2</td>\n",
       "      <td>Person</td>\n",
       "      <td>2.0</td>\n",
       "      <td>NaN</td>\n",
       "      <td>Ben Elowitz</td>\n",
       "      <td>ben elowitz</td>\n",
       "      <td>/person/ben-elowitz</td>\n",
       "      <td>NaN</td>\n",
       "      <td>operating</td>\n",
       "      <td>NaN</td>\n",
       "      <td>...</td>\n",
       "      <td>260915.0</td>\n",
       "      <td>p:2</td>\n",
       "      <td>c:537</td>\n",
       "      <td>2002-01-01</td>\n",
       "      <td>2002-01-01</td>\n",
       "      <td>1.0</td>\n",
       "      <td>1.0</td>\n",
       "      <td>Consultant</td>\n",
       "      <td>2013-06-02 16:56:52</td>\n",
       "      <td>2013-06-02 16:56:52</td>\n",
       "    </tr>\n",
       "    <tr>\n",
       "      <th>6</th>\n",
       "      <td>p:2</td>\n",
       "      <td>Person</td>\n",
       "      <td>2.0</td>\n",
       "      <td>NaN</td>\n",
       "      <td>Ben Elowitz</td>\n",
       "      <td>ben elowitz</td>\n",
       "      <td>/person/ben-elowitz</td>\n",
       "      <td>NaN</td>\n",
       "      <td>operating</td>\n",
       "      <td>NaN</td>\n",
       "      <td>...</td>\n",
       "      <td>260917.0</td>\n",
       "      <td>p:2</td>\n",
       "      <td>c:2361</td>\n",
       "      <td>NaN</td>\n",
       "      <td>NaN</td>\n",
       "      <td>1.0</td>\n",
       "      <td>4.0</td>\n",
       "      <td>Consultant</td>\n",
       "      <td>2013-06-02 16:56:52</td>\n",
       "      <td>2013-06-02 16:56:52</td>\n",
       "    </tr>\n",
       "    <tr>\n",
       "      <th>7</th>\n",
       "      <td>p:2</td>\n",
       "      <td>Person</td>\n",
       "      <td>2.0</td>\n",
       "      <td>NaN</td>\n",
       "      <td>Ben Elowitz</td>\n",
       "      <td>ben elowitz</td>\n",
       "      <td>/person/ben-elowitz</td>\n",
       "      <td>NaN</td>\n",
       "      <td>operating</td>\n",
       "      <td>NaN</td>\n",
       "      <td>...</td>\n",
       "      <td>414818.0</td>\n",
       "      <td>p:2</td>\n",
       "      <td>c:268504</td>\n",
       "      <td>NaN</td>\n",
       "      <td>NaN</td>\n",
       "      <td>1.0</td>\n",
       "      <td>5.0</td>\n",
       "      <td>Consultant</td>\n",
       "      <td>2013-10-01 00:48:10</td>\n",
       "      <td>2013-10-01 00:48:10</td>\n",
       "    </tr>\n",
       "    <tr>\n",
       "      <th>8</th>\n",
       "      <td>p:3</td>\n",
       "      <td>Person</td>\n",
       "      <td>3.0</td>\n",
       "      <td>NaN</td>\n",
       "      <td>Kevin Flaherty</td>\n",
       "      <td>kevin flaherty</td>\n",
       "      <td>/person/kevin-flaherty</td>\n",
       "      <td>NaN</td>\n",
       "      <td>operating</td>\n",
       "      <td>NaN</td>\n",
       "      <td>...</td>\n",
       "      <td>2.0</td>\n",
       "      <td>p:3</td>\n",
       "      <td>c:1</td>\n",
       "      <td>NaN</td>\n",
       "      <td>NaN</td>\n",
       "      <td>1.0</td>\n",
       "      <td>279242.0</td>\n",
       "      <td>VP Marketing</td>\n",
       "      <td>2007-05-25 07:04:16</td>\n",
       "      <td>2010-05-21 16:31:34</td>\n",
       "    </tr>\n",
       "    <tr>\n",
       "      <th>9</th>\n",
       "      <td>p:3</td>\n",
       "      <td>Person</td>\n",
       "      <td>3.0</td>\n",
       "      <td>NaN</td>\n",
       "      <td>Kevin Flaherty</td>\n",
       "      <td>kevin flaherty</td>\n",
       "      <td>/person/kevin-flaherty</td>\n",
       "      <td>NaN</td>\n",
       "      <td>operating</td>\n",
       "      <td>NaN</td>\n",
       "      <td>...</td>\n",
       "      <td>22539.0</td>\n",
       "      <td>p:3</td>\n",
       "      <td>f:1017</td>\n",
       "      <td>NaN</td>\n",
       "      <td>NaN</td>\n",
       "      <td>0.0</td>\n",
       "      <td>279243.0</td>\n",
       "      <td>Limited Partner</td>\n",
       "      <td>2008-10-07 02:23:04</td>\n",
       "      <td>2010-10-08 21:02:10</td>\n",
       "    </tr>\n",
       "  </tbody>\n",
       "</table>\n",
       "<p>10 rows × 51 columns</p>\n",
       "</div>"
      ],
      "text/plain": [
       "  id_x entity_type  entity_id  parent_id            name normalized_name  \\\n",
       "0  p:2      Person        2.0        NaN     Ben Elowitz     ben elowitz   \n",
       "1  p:2      Person        2.0        NaN     Ben Elowitz     ben elowitz   \n",
       "2  p:2      Person        2.0        NaN     Ben Elowitz     ben elowitz   \n",
       "3  p:2      Person        2.0        NaN     Ben Elowitz     ben elowitz   \n",
       "4  p:2      Person        2.0        NaN     Ben Elowitz     ben elowitz   \n",
       "5  p:2      Person        2.0        NaN     Ben Elowitz     ben elowitz   \n",
       "6  p:2      Person        2.0        NaN     Ben Elowitz     ben elowitz   \n",
       "7  p:2      Person        2.0        NaN     Ben Elowitz     ben elowitz   \n",
       "8  p:3      Person        3.0        NaN  Kevin Flaherty  kevin flaherty   \n",
       "9  p:3      Person        3.0        NaN  Kevin Flaherty  kevin flaherty   \n",
       "\n",
       "                permalink  category_code     status  founded_at  \\\n",
       "0     /person/ben-elowitz            NaN  operating         NaN   \n",
       "1     /person/ben-elowitz            NaN  operating         NaN   \n",
       "2     /person/ben-elowitz            NaN  operating         NaN   \n",
       "3     /person/ben-elowitz            NaN  operating         NaN   \n",
       "4     /person/ben-elowitz            NaN  operating         NaN   \n",
       "5     /person/ben-elowitz            NaN  operating         NaN   \n",
       "6     /person/ben-elowitz            NaN  operating         NaN   \n",
       "7     /person/ben-elowitz            NaN  operating         NaN   \n",
       "8  /person/kevin-flaherty            NaN  operating         NaN   \n",
       "9  /person/kevin-flaherty            NaN  operating         NaN   \n",
       "\n",
       "          ...          relationship_id person_object_id  \\\n",
       "0         ...                      1.0              p:2   \n",
       "1         ...                  11366.0              p:2   \n",
       "2         ...                  11367.0              p:2   \n",
       "3         ...                  22537.0              p:2   \n",
       "4         ...                 112873.0              p:2   \n",
       "5         ...                 260915.0              p:2   \n",
       "6         ...                 260917.0              p:2   \n",
       "7         ...                 414818.0              p:2   \n",
       "8         ...                      2.0              p:3   \n",
       "9         ...                  22539.0              p:3   \n",
       "\n",
       "  relationship_object_id    start_at      end_at  is_past  sequence  \\\n",
       "0                    c:1         NaN         NaN      0.0       8.0   \n",
       "1                 c:4993         NaN         NaN      1.0       6.0   \n",
       "2               c:233024         NaN         NaN      1.0       2.0   \n",
       "3                 f:1017         NaN         NaN      0.0       7.0   \n",
       "4                c:18661         NaN         NaN      1.0       3.0   \n",
       "5                  c:537  2002-01-01  2002-01-01      1.0       1.0   \n",
       "6                 c:2361         NaN         NaN      1.0       4.0   \n",
       "7               c:268504         NaN         NaN      1.0       5.0   \n",
       "8                    c:1         NaN         NaN      1.0  279242.0   \n",
       "9                 f:1017         NaN         NaN      0.0  279243.0   \n",
       "\n",
       "                               title        created_at_y        updated_at_y  \n",
       "0  Co-Founder/CEO/Board of Directors 2007-05-25 07:03:54 2013-06-03 09:58:46  \n",
       "1                    Co-founder & VP 2008-05-06 00:04:18 2013-06-02 16:56:52  \n",
       "2               Business Development 2008-05-06 00:04:18 2013-06-02 16:56:52  \n",
       "3                    Limited Partner 2008-10-07 02:23:04 2010-10-08 21:02:10  \n",
       "4                         Consultant 2011-05-11 01:24:28 2011-05-11 01:24:28  \n",
       "5                         Consultant 2013-06-02 16:56:52 2013-06-02 16:56:52  \n",
       "6                         Consultant 2013-06-02 16:56:52 2013-06-02 16:56:52  \n",
       "7                         Consultant 2013-10-01 00:48:10 2013-10-01 00:48:10  \n",
       "8                       VP Marketing 2007-05-25 07:04:16 2010-05-21 16:31:34  \n",
       "9                    Limited Partner 2008-10-07 02:23:04 2010-10-08 21:02:10  \n",
       "\n",
       "[10 rows x 51 columns]"
      ]
     },
     "execution_count": 105,
     "metadata": {},
     "output_type": "execute_result"
    }
   ],
   "source": [
    "a = work_ex[:5].groupby('id_x')\n",
    "work_ex[:10]"
   ]
  },
  {
   "cell_type": "code",
   "execution_count": null,
   "metadata": {
    "collapsed": true
   },
   "outputs": [],
   "source": []
  }
 ],
 "metadata": {
  "kernelspec": {
   "display_name": "Python 2",
   "language": "python",
   "name": "python2"
  },
  "language_info": {
   "codemirror_mode": {
    "name": "ipython",
    "version": 2
   },
   "file_extension": ".py",
   "mimetype": "text/x-python",
   "name": "python",
   "nbconvert_exporter": "python",
   "pygments_lexer": "ipython2",
   "version": "2.7.10"
  }
 },
 "nbformat": 4,
 "nbformat_minor": 1
}
